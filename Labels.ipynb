{
 "cells": [
  {
   "cell_type": "code",
   "execution_count": 1,
   "id": "3bbecb0b",
   "metadata": {},
   "outputs": [
    {
     "name": "stderr",
     "output_type": "stream",
     "text": [
      "C:\\Users\\busr4\\AppData\\Local\\Temp\\ipykernel_9152\\4106642385.py:11: DtypeWarning: Columns (3,5,6,7,10,12,13,15,17,19,20,21) have mixed types. Specify dtype option on import or set low_memory=False.\n",
      "  big_data = pd.read_csv(big_data_path, on_bad_lines='skip', delimiter='\\t',quoting=csv.QUOTE_NONE)\n"
     ]
    }
   ],
   "source": [
    "import numpy as np\n",
    "import pandas as pd\n",
    "import random\n",
    "import os\n",
    "import csv\n",
    "\n",
    "#declear path to your data\n",
    "big_data_path = 'label_list/label_list.csv'\n",
    "toy_data_path = 'toy_dataset_label.csv'\n",
    "# Importing the dataset\n",
    "big_data = pd.read_csv(big_data_path, on_bad_lines='skip', delimiter='\\t',quoting=csv.QUOTE_NONE)\n",
    "toy_data = pd.read_csv(toy_data_path, on_bad_lines='skip', delimiter='\\t',quoting=csv.QUOTE_NONE)\n",
    "\n",
    "big_data = big_data.sample(frac = 1)\n",
    "toy_data = toy_data.sample(frac = 1)"
   ]
  },
  {
   "cell_type": "code",
   "execution_count": 33,
   "id": "d7027e97",
   "metadata": {},
   "outputs": [
    {
     "name": "stdout",
     "output_type": "stream",
     "text": [
      "['symbolic painting' nan 'landscape,still life' ... nan 'sketch and study'\n",
      " nan]\n",
      "['portrait' 'other' 'religious' ... 'genre' 'study' 'genre']\n"
     ]
    }
   ],
   "source": [
    "labels_big_data = big_data.iloc[:, 3].values\n",
    "labels_toy_data = toy_data.iloc[:, 9].values\n",
    "\n",
    "print(labels_big_data)\n",
    "print(labels_toy_data)"
   ]
  },
  {
   "cell_type": "code",
   "execution_count": 37,
   "id": "2a7448d7",
   "metadata": {},
   "outputs": [
    {
     "name": "stdout",
     "output_type": "stream",
     "text": [
      "{'other', 'portrait', 'interior', 'genre', 'landscape', 'still-life', 'mythological', 'study', 'religious', 'historical'}\n"
     ]
    }
   ],
   "source": [
    "a = set()\n",
    "for val in labels_toy_data:\n",
    "    if pd.notna(val):\n",
    "        a.add(val)\n",
    "print(a)"
   ]
  },
  {
   "cell_type": "code",
   "execution_count": 38,
   "id": "b3630206",
   "metadata": {},
   "outputs": [
    {
     "name": "stdout",
     "output_type": "stream",
     "text": [
      "{'genre painting,religious painting', 'allegorical painting,portrait', 'abstract,figurative', 'landscape,allegorical painting', 'portrait,still life', 'photo,portrait', 'religious painting,still life', 'portrait,illustration', 'figurative,mythological painting', 'wildlife painting', 'literary painting,mythological painting', 'nude painting (nu),illustration', 'design', 'portrait,caricature', 'genre painting,sketch and study', 'cityscape,illustration', 'mythological painting,landscape', 'advertisement', 'nude painting (nu),sketch and study', 'history painting,allegorical painting', 'abstract,mosaic', 'abstract', 'cityscape,self-portrait', 'history painting,mythological painting', 'portrait,tronie', 'caricature,illustration', 'religious painting,design', 'portrait,flower painting', 'religious painting,abstract', 'genre painting,vanitas', 'abstract,sketch and study', 'landscape,cityscape', 'portrait,figurative', 'figurative,portrait', 'flower painting,landscape', 'symbolic painting,sculpture', 'animation,landscape', 'animal painting,cityscape', 'genre painting,nude painting (nu)', 'religious painting,nude painting (nu)', 'sketch and study,tronie', 'urushi-e', 'symbolic painting,abstract', 'figurative,installation', 'architecture', 'self-portrait,genre painting', 'portrait', 'interior,landscape', 'cityscape', 'illustration,design', 'design,symbolic painting', 'calligraphy,abstract', 'flower painting,animal painting', 'flower painting,battle painting', 'nude painting (nu),figurative', 'portrait,allegorical painting', 'landscape,sketch and study', 'religious painting,sketch and study', 'sculpture,abstract', 'symbolic painting,landscape', 'abstract,landscape', 'illustration,nude painting (nu)', \"still life,trompe-l'œil\", 'literary painting,nude painting (nu)', 'flower painting,portrait', 'interior,portrait', 'flower painting,still life', 'sketch and study', 'photo,abstract', 'marina,battle painting', 'mythological painting,design', 'graffiti', 'design,religious painting', 'abstract,nude painting (nu)', 'history painting', 'portrait,symbolic painting', 'sketch and study,animal painting', 'nude painting (nu),portrait', 'figurative,mosaic', 'flower painting,abstract', 'sketch and study,portrait', 'religious painting,landscape', 'symbolic painting,sketch and study', 'self-portrait', 'sculpture,symbolic painting', 'landscape,abstract', 'interior,figurative', 'installation,sculpture', 'landscape,history painting', 'illustration,portrait', 'animal painting,mythological painting', 'mythological painting', 'tessellation', 'marina,genre painting', 'mythological painting,portrait', 'capriccio,veduta', 'allegorical painting,symbolic painting', 'tapestry,allegorical painting', 'poster', 'sketch and study,design', 'mosaic', 'marina,abstract', 'mythological painting,symbolic painting', 'portrait,religious painting', 'mythological painting,history painting', 'sculpture,design', 'symbolic painting,history painting', 'photo', 'battle painting,portrait', 'design,installation', 'miniature,religious painting', 'illustration,mythological painting', 'caricature,sculpture', 'tessellation,abstract', 'animal painting', 'wildlife painting,portrait', 'symbolic painting,genre painting', 'portrait,sketch and study', \"portrait,trompe-l'œil\", 'installation,performance', 'design,illustration', 'cityscape,cloudscape', 'religious painting,sculpture', 'abstract,symbolic painting', 'advertisement,poster', 'illustration,poster', 'marina,cityscape', 'marina,cloudscape', 'installation,tapestry', 'landscape,literary painting', 'figurative', 'genre painting,portrait', 'panorama', 'cityscape,architecture', \"religious painting,trompe-l'œil\", 'performance', 'portrait,abstract', 'cloudscape,landscape', 'quadratura', 'animal painting,genre painting', 'nude painting (nu),symbolic painting', 'genre painting,cloudscape', 'battle painting,mythological painting', 'animal painting,flower painting', 'symbolic painting,design', 'genre painting,history painting', 'mythological painting,illustration', 'genre painting', \"landscape,trompe-l'œil\", 'genre painting,veduta', 'portrait,history painting', 'landscape,genre painting', 'self-portrait,symbolic painting', 'figurative,allegorical painting', 'landscape,cloudscape', 'portrait,vanitas', 'landscape,religious painting', \"mythological painting,trompe-l'œil\", 'abstract,interior', 'sketch and study,nude painting (nu)', 'still life,marina', 'portrait,genre painting', 'mythological painting,battle painting', 'figurative,religious painting', 'cloudscape,abstract', 'still life,flower painting', 'portrait,interior', 'battle painting,genre painting', \"allegorical painting,trompe-l'œil\", 'landscape,still life', 'literary painting', 'history painting,illustration', 'landscape,self-portrait', 'sculpture', 'self-portrait,landscape', 'self-portrait,tronie', 'figurative,self-portrait', 'illustration', 'landscape,flower painting', \"genre painting,trompe-l'œil\", 'religious painting', 'still life', 'miniature,portrait', 'mythological painting,self-portrait', \"trompe-l'œil\", 'interior', 'history painting,portrait', 'cityscape,portrait', 'battle painting,history painting', 'veduta', 'sketch and study,landscape', 'genre painting,cityscape', 'nude painting (nu)', 'animal painting,landscape', 'marina', 'symbolic painting', 'religious painting,allegorical painting', 'history painting,nude painting (nu)', 'mythological painting,allegorical painting', 'nude painting (nu),mythological painting', 'sculpture,performance', 'marina,still life', 'symbolic painting,figurative', 'history painting,religious painting', 'portrait,mythological painting', 'landscape,veduta', 'design,abstract', 'animal painting,still life', 'genre painting,interior', 'illustration,battle painting', 'mosaic,figurative', 'illustration,genre painting', 'landscape', 'landscape,portrait', 'genre painting,figurative', 'genre painting,still life', 'nude painting (nu),still life', 'figurative,landscape', 'flower painting', 'abstract,flower painting', 'cloudscape,marina', 'yakusha-e', 'sketch and study,illustration', 'landscape,marina', 'religious painting,vanitas', 'still life,interior', 'architecture,cityscape', 'history painting,battle painting', 'performance,abstract', 'bijinga', 'performance,installation', 'genre painting,self-portrait', 'performance,photo', 'allegorical painting', 'mythological painting,nude painting (nu)', 'calligraphy', 'genre painting,symbolic painting', 'figurative,nude painting (nu)', 'cityscape,sketch and study', 'genre painting,animal painting', 'vanitas', 'history painting,landscape', 'pastorale', 'battle painting', 'genre painting,landscape', 'cloudscape,sculpture', 'self-portrait,wildlife painting', 'installation,abstract', 'poster,design', 'portrait,landscape', 'portrait,animal painting', 'symbolic painting,cityscape', 'figurative,genre painting', 'tapestry', 'symbolic painting,nude painting (nu)', 'cityscape,genre painting', 'portrait,cityscape', 'portrait,self-portrait', 'caricature', 'portrait,photo', 'design,sculpture', \"trompe-l'œil,nude painting (nu)\", 'advertisement,installation', 'religious painting,tronie', 'religious painting,self-portrait', 'abstract,sculpture', 'abstract,religious painting', 'self-portrait,portrait', 'portrait,literary painting', 'cityscape,marina', 'shan shui', 'advertisement,illustration', 'landscape,animal painting', 'animal painting,history painting', 'animal painting,portrait', 'illustration,religious painting', 'bird-and-flower painting', 'allegorical painting,nude painting (nu)', 'miniature', 'nude painting (nu),self-portrait', 'sketch and study,cityscape', 'genre painting,tronie', 'installation', 'nude painting (nu),genre painting', 'landscape,figurative', 'cityscape,veduta', 'installation,photo', 'religious painting,portrait', 'abstract,poster', 'cityscape,landscape', 'capriccio', 'animal painting,wildlife painting', 'mythological painting,figurative', 'landscape,wildlife painting', 'abstract,architecture', 'illustration,symbolic painting', 'figurative,abstract', 'still life,vanitas', 'cloudscape', 'mosaic,abstract', 'still life,abstract', 'installation,architecture', \"abstract,trompe-l'œil\", 'mythological painting,religious painting', 'design,landscape', 'sketch and study,sculpture', 'nude painting (nu),landscape', \"quadratura,trompe-l'œil\", 'abstract,self-portrait', 'illustration,literary painting'}\n"
     ]
    }
   ],
   "source": [
    "a = set()\n",
    "for val in labels_big_data:\n",
    "    if pd.notna(val):\n",
    "        a.add(val)\n",
    "print(a)"
   ]
  },
  {
   "cell_type": "code",
   "execution_count": null,
   "id": "be91b7a8",
   "metadata": {},
   "outputs": [],
   "source": []
  }
 ],
 "metadata": {
  "kernelspec": {
   "display_name": "Python 3 (ipykernel)",
   "language": "python",
   "name": "python3"
  },
  "language_info": {
   "codemirror_mode": {
    "name": "ipython",
    "version": 3
   },
   "file_extension": ".py",
   "mimetype": "text/x-python",
   "name": "python",
   "nbconvert_exporter": "python",
   "pygments_lexer": "ipython3",
   "version": "3.10.9"
  }
 },
 "nbformat": 4,
 "nbformat_minor": 5
}
